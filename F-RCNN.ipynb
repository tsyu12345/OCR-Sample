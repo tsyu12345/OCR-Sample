{
 "cells": [
  {
   "cell_type": "code",
   "execution_count": 75,
   "metadata": {},
   "outputs": [],
   "source": [
    "from __future__ import annotations\n",
    "from typing import Final as const, Any"
   ]
  },
  {
   "cell_type": "code",
   "execution_count": 76,
   "metadata": {},
   "outputs": [],
   "source": [
    "import torch\n",
    "import torchvision\n",
    "from torchvision.models.detection.faster_rcnn import FastRCNNPredictor\n",
    "from torchvision.models.detection import fasterrcnn_resnet50_fpn\n",
    "#from torchvision.datasets import CocoDetection\n",
    "from torchvision.datasets import VOCDetection\n",
    "from torch.utils.data import DataLoader\n",
    "from torchvision import transforms\n",
    "from torchvision.transforms import functional as F"
   ]
  },
  {
   "cell_type": "code",
   "execution_count": 77,
   "metadata": {},
   "outputs": [],
   "source": [
    "from glob import glob"
   ]
  },
  {
   "cell_type": "markdown",
   "metadata": {},
   "source": [
    "## CNNモデルの作成"
   ]
  },
  {
   "cell_type": "code",
   "execution_count": 78,
   "metadata": {},
   "outputs": [],
   "source": [
    "voc_type_train_datas: const[str] = './pascal-voc--learning-daatset'"
   ]
  },
  {
   "cell_type": "code",
   "execution_count": 79,
   "metadata": {},
   "outputs": [
    {
     "name": "stdout",
     "output_type": "stream",
     "text": [
      "Using downloaded and verified file: ./pascal-voc--learning-daatset/VOCtrainval_11-May-2012.tar\n",
      "Extracting ./pascal-voc--learning-daatset/VOCtrainval_11-May-2012.tar to ./pascal-voc--learning-daatset\n"
     ]
    }
   ],
   "source": [
    "dataset = VOCDetection(\n",
    "    voc_type_train_datas, \n",
    "    year='2012', \n",
    "    image_set='train', \n",
    "    download=True,\n",
    "    transform=F.to_tensor\n",
    ")\n",
    "\n",
    "data_loader = DataLoader(dataset, batch_size=1, shuffle=True, num_workers=4)\n"
   ]
  },
  {
   "cell_type": "code",
   "execution_count": 80,
   "metadata": {},
   "outputs": [],
   "source": [
    "#モデルの設定\n",
    "\n",
    "# モデルの定義\n",
    "model = fasterrcnn_resnet50_fpn(pretrained=True)\n",
    "\n",
    "# 分類器の出力数をチェックマークのクラス数に合わせて変更\n",
    "num_classes = 3  # 1 class (checkmark) + background\n",
    "in_features = model.roi_heads.box_predictor.cls_score.in_features\n",
    "model.roi_heads.box_predictor = FastRCNNPredictor(in_features, num_classes)\n"
   ]
  },
  {
   "cell_type": "code",
   "execution_count": 81,
   "metadata": {},
   "outputs": [],
   "source": [
    "#モデルの設定\n",
    "\n",
    "# モデルの定義\n",
    "model = fasterrcnn_resnet50_fpn(pretrained=True)\n",
    "\n",
    "# 分類器の出力数をチェックマークのクラス数に合わせて変更\n",
    "num_classes = 2  # 1 class (checkmark) + background\n",
    "in_features = model.roi_heads.box_predictor.cls_score.in_features\n",
    "model.roi_heads.box_predictor = FastRCNNPredictor(in_features, num_classes)\n"
   ]
  },
  {
   "cell_type": "code",
   "execution_count": 82,
   "metadata": {},
   "outputs": [],
   "source": [
    "#学習の設定\n",
    "device = torch.device('cuda') if torch.cuda.is_available() else torch.device('cpu')\n",
    "model.to(device)\n",
    "\n",
    "params = [p for p in model.parameters() if p.requires_grad]\n",
    "optimizer = torch.optim.SGD(params, lr=0.005, momentum=0.9, weight_decay=0.0005)\n",
    "\n",
    "num_epochs = 10"
   ]
  },
  {
   "cell_type": "code",
   "execution_count": 86,
   "metadata": {},
   "outputs": [
    {
     "name": "stdout",
     "output_type": "stream",
     "text": [
      "Epoch : 0\n",
      "annotation\n"
     ]
    },
    {
     "ename": "TypeError",
     "evalue": "string indices must be integers",
     "output_type": "error",
     "traceback": [
      "\u001b[0;31m---------------------------------------------------------------------------\u001b[0m",
      "\u001b[0;31mTypeError\u001b[0m                                 Traceback (most recent call last)",
      "Cell \u001b[0;32mIn[86], line 11\u001b[0m\n\u001b[1;32m      9\u001b[0m     \u001b[39mprint\u001b[39m(t)\n\u001b[1;32m     10\u001b[0m \u001b[39m#targets = [{k: v for k, v in t.items()} for t in targets]\u001b[39;00m\n\u001b[0;32m---> 11\u001b[0m loss_dict \u001b[39m=\u001b[39m model(imgs, targets)\n\u001b[1;32m     12\u001b[0m losses \u001b[39m=\u001b[39m \u001b[39msum\u001b[39m(loss \u001b[39mfor\u001b[39;00m loss \u001b[39min\u001b[39;00m loss_dict\u001b[39m.\u001b[39mvalues())\n\u001b[1;32m     14\u001b[0m optimizer\u001b[39m.\u001b[39mzero_grad()\n",
      "File \u001b[0;32m~/OCR-Sample/.venv/lib/python3.10/site-packages/torch/nn/modules/module.py:1501\u001b[0m, in \u001b[0;36mModule._call_impl\u001b[0;34m(self, *args, **kwargs)\u001b[0m\n\u001b[1;32m   1496\u001b[0m \u001b[39m# If we don't have any hooks, we want to skip the rest of the logic in\u001b[39;00m\n\u001b[1;32m   1497\u001b[0m \u001b[39m# this function, and just call forward.\u001b[39;00m\n\u001b[1;32m   1498\u001b[0m \u001b[39mif\u001b[39;00m \u001b[39mnot\u001b[39;00m (\u001b[39mself\u001b[39m\u001b[39m.\u001b[39m_backward_hooks \u001b[39mor\u001b[39;00m \u001b[39mself\u001b[39m\u001b[39m.\u001b[39m_backward_pre_hooks \u001b[39mor\u001b[39;00m \u001b[39mself\u001b[39m\u001b[39m.\u001b[39m_forward_hooks \u001b[39mor\u001b[39;00m \u001b[39mself\u001b[39m\u001b[39m.\u001b[39m_forward_pre_hooks\n\u001b[1;32m   1499\u001b[0m         \u001b[39mor\u001b[39;00m _global_backward_pre_hooks \u001b[39mor\u001b[39;00m _global_backward_hooks\n\u001b[1;32m   1500\u001b[0m         \u001b[39mor\u001b[39;00m _global_forward_hooks \u001b[39mor\u001b[39;00m _global_forward_pre_hooks):\n\u001b[0;32m-> 1501\u001b[0m     \u001b[39mreturn\u001b[39;00m forward_call(\u001b[39m*\u001b[39;49margs, \u001b[39m*\u001b[39;49m\u001b[39m*\u001b[39;49mkwargs)\n\u001b[1;32m   1502\u001b[0m \u001b[39m# Do not call functions when jit is used\u001b[39;00m\n\u001b[1;32m   1503\u001b[0m full_backward_hooks, non_full_backward_hooks \u001b[39m=\u001b[39m [], []\n",
      "File \u001b[0;32m~/OCR-Sample/.venv/lib/python3.10/site-packages/torchvision/models/detection/generalized_rcnn.py:65\u001b[0m, in \u001b[0;36mGeneralizedRCNN.forward\u001b[0;34m(self, images, targets)\u001b[0m\n\u001b[1;32m     63\u001b[0m \u001b[39melse\u001b[39;00m:\n\u001b[1;32m     64\u001b[0m     \u001b[39mfor\u001b[39;00m target \u001b[39min\u001b[39;00m targets:\n\u001b[0;32m---> 65\u001b[0m         boxes \u001b[39m=\u001b[39m target[\u001b[39m\"\u001b[39;49m\u001b[39mboxes\u001b[39;49m\u001b[39m\"\u001b[39;49m]\n\u001b[1;32m     66\u001b[0m         \u001b[39mif\u001b[39;00m \u001b[39misinstance\u001b[39m(boxes, torch\u001b[39m.\u001b[39mTensor):\n\u001b[1;32m     67\u001b[0m             torch\u001b[39m.\u001b[39m_assert(\n\u001b[1;32m     68\u001b[0m                 \u001b[39mlen\u001b[39m(boxes\u001b[39m.\u001b[39mshape) \u001b[39m==\u001b[39m \u001b[39m2\u001b[39m \u001b[39mand\u001b[39;00m boxes\u001b[39m.\u001b[39mshape[\u001b[39m-\u001b[39m\u001b[39m1\u001b[39m] \u001b[39m==\u001b[39m \u001b[39m4\u001b[39m,\n\u001b[1;32m     69\u001b[0m                 \u001b[39mf\u001b[39m\u001b[39m\"\u001b[39m\u001b[39mExpected target boxes to be a tensor of shape [N, 4], got \u001b[39m\u001b[39m{\u001b[39;00mboxes\u001b[39m.\u001b[39mshape\u001b[39m}\u001b[39;00m\u001b[39m.\u001b[39m\u001b[39m\"\u001b[39m,\n\u001b[1;32m     70\u001b[0m             )\n",
      "\u001b[0;31mTypeError\u001b[0m: string indices must be integers"
     ]
    }
   ],
   "source": [
    "#学習の実行\n",
    "for epoch in range(num_epochs):\n",
    "    print(f'Epoch : {epoch}')\n",
    "    model.train()\n",
    "    i = 0    \n",
    "    for imgs, targets in data_loader:\n",
    "        imgs = list(img.to(device) for img in imgs)\n",
    "        # FIXME:多分データセットの読み方が間違ってる\n",
    "        #targets = [{k: v for k, v in t.items()} for t in targets]\n",
    "        loss_dict = model(imgs, targets)\n",
    "        losses = sum(loss for loss in loss_dict.values())\n",
    "\n",
    "        optimizer.zero_grad()\n",
    "        losses.backward()\n",
    "        optimizer.step()\n",
    "\n",
    "        i += 1\n",
    "        if i % 50 == 0:\n",
    "            print(f\"Iteration #{i} loss: {losses.item()}\")"
   ]
  },
  {
   "cell_type": "code",
   "execution_count": null,
   "metadata": {},
   "outputs": [],
   "source": [
    "# 訓練済みモデルの保存\n",
    "torch.save(model.state_dict(), \"path_to_save_your_model.pth\")"
   ]
  },
  {
   "cell_type": "markdown",
   "metadata": {},
   "source": [
    "## モデルを利用したチェックマークの検出"
   ]
  },
  {
   "cell_type": "code",
   "execution_count": null,
   "metadata": {},
   "outputs": [],
   "source": [
    "#保存したモデルの読み込み\n",
    "model_path: const[str] = \"path_to_your_model.pth\"\n",
    "model = fasterrcnn_resnet50_fpn(pretrained=False) #Fast-RCNNを指定\n",
    "model.load_state_dict(torch.load(model_path))\n",
    "\n",
    "#学習モードから評価モードへの切り替え\n",
    "model.eval()"
   ]
  },
  {
   "cell_type": "code",
   "execution_count": null,
   "metadata": {},
   "outputs": [],
   "source": [
    "from PIL import Image\n",
    "def predict(path: str) -> Any:\n",
    "    \"\"\"モデルに画像を入力し、予測結果を返す関数\"\"\"\n",
    "    img = Image(path).open()\n",
    "    img = F.to_tensor(img)\n",
    "\n",
    "    #推論モードなので、学習は不要。誤差逆伝搬をしない\n",
    "    with torch.no_grad():\n",
    "        prediction = model(img)\n",
    "    \n",
    "    return prediction\n"
   ]
  },
  {
   "cell_type": "code",
   "execution_count": null,
   "metadata": {},
   "outputs": [],
   "source": [
    "test = predict(\"./sheet.jpg\")"
   ]
  }
 ],
 "metadata": {
  "kernelspec": {
   "display_name": ".venv",
   "language": "python",
   "name": "python3"
  },
  "language_info": {
   "codemirror_mode": {
    "name": "ipython",
    "version": 3
   },
   "file_extension": ".py",
   "mimetype": "text/x-python",
   "name": "python",
   "nbconvert_exporter": "python",
   "pygments_lexer": "ipython3",
   "version": "3.10.4"
  },
  "orig_nbformat": 4
 },
 "nbformat": 4,
 "nbformat_minor": 2
}
